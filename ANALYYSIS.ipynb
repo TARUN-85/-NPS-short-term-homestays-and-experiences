{
 "cells": [
  {
   "cell_type": "markdown",
   "id": "a01c3c05",
   "metadata": {},
   "source": [
    "# NET PROMOTING SCORE (NPS):\n",
    "It's basically the '%' of promoter which are satisfied by service/product out of total"
   ]
  },
  {
   "cell_type": "code",
   "execution_count": 1,
   "id": "c594eb03",
   "metadata": {},
   "outputs": [],
   "source": [
    "import numpy as np"
   ]
  },
  {
   "cell_type": "code",
   "execution_count": 2,
   "id": "ec31bfd2",
   "metadata": {},
   "outputs": [
    {
     "data": {
      "text/plain": [
       "array([ 7, 10,  5, ...,  5,  9, 10])"
      ]
     },
     "execution_count": 2,
     "metadata": {},
     "output_type": "execute_result"
    }
   ],
   "source": [
    "score = np.loadtxt(\"survey.txt\",dtype='int')\n",
    "score"
   ]
  },
  {
   "cell_type": "markdown",
   "id": "480b56b9",
   "metadata": {},
   "source": [
    "## MAX SCORE"
   ]
  },
  {
   "cell_type": "code",
   "execution_count": 3,
   "id": "e6516a94",
   "metadata": {},
   "outputs": [
    {
     "data": {
      "text/plain": [
       "10"
      ]
     },
     "execution_count": 3,
     "metadata": {},
     "output_type": "execute_result"
    }
   ],
   "source": [
    "np.max(score)"
   ]
  },
  {
   "cell_type": "markdown",
   "id": "01678a7a",
   "metadata": {},
   "source": [
    "# MIN SCORE"
   ]
  },
  {
   "cell_type": "code",
   "execution_count": 4,
   "id": "7c9471b8",
   "metadata": {},
   "outputs": [
    {
     "data": {
      "text/plain": [
       "1"
      ]
     },
     "execution_count": 4,
     "metadata": {},
     "output_type": "execute_result"
    }
   ],
   "source": [
    "np.min(score)"
   ]
  },
  {
   "cell_type": "markdown",
   "id": "640e0653",
   "metadata": {},
   "source": [
    "# RANGE OF SCORE"
   ]
  },
  {
   "cell_type": "markdown",
   "id": "394454a8",
   "metadata": {},
   "source": [
    "**THE RANGE LISE BETWEEN 1 & 10**"
   ]
  },
  {
   "cell_type": "markdown",
   "id": "9b76b845",
   "metadata": {},
   "source": [
    "## TOTAL NO OF FEEDBACKS"
   ]
  },
  {
   "cell_type": "code",
   "execution_count": 5,
   "id": "e5128089",
   "metadata": {},
   "outputs": [
    {
     "data": {
      "text/plain": [
       "1167"
      ]
     },
     "execution_count": 5,
     "metadata": {},
     "output_type": "execute_result"
    }
   ],
   "source": [
    "#total no of feedbacks\n",
    "total_people = score.shape[0]\n",
    "total_people"
   ]
  },
  {
   "cell_type": "markdown",
   "id": "df3f5294",
   "metadata": {},
   "source": [
    "## PROMOTERS\n",
    "**PROMOTERS: The no of people who are satisfied with service and willing to promote(score >= 8)**"
   ]
  },
  {
   "cell_type": "code",
   "execution_count": 6,
   "id": "262b87c4",
   "metadata": {},
   "outputs": [
    {
     "data": {
      "text/plain": [
       "609"
      ]
     },
     "execution_count": 6,
     "metadata": {},
     "output_type": "execute_result"
    }
   ],
   "source": [
    "promoters = score[score > 8]\n",
    "promoters_count = promoters.shape[0]\n",
    "promoters_count"
   ]
  },
  {
   "cell_type": "markdown",
   "id": "357def7d",
   "metadata": {},
   "source": [
    "## DETRACTORS\n",
    "**DETRACTORS: The no of people who are not satisfied with service or having a bad \n",
    "expeience and not willing to promote(score < 6)**"
   ]
  },
  {
   "cell_type": "code",
   "execution_count": 7,
   "id": "bad10b7c",
   "metadata": {},
   "outputs": [
    {
     "data": {
      "text/plain": [
       "332"
      ]
     },
     "execution_count": 7,
     "metadata": {},
     "output_type": "execute_result"
    }
   ],
   "source": [
    "detractors = score[score < 6]\n",
    "detractors_count = detractors.shape[0]\n",
    "detractors_count"
   ]
  },
  {
   "cell_type": "markdown",
   "id": "c65ee25a",
   "metadata": {},
   "source": [
    "## NEUTRALS\n",
    "**NEUTRALS: The no of people who are not interseted in feedback(score >= 6 and score < 8)**"
   ]
  },
  {
   "cell_type": "code",
   "execution_count": 8,
   "id": "cc8ebf33",
   "metadata": {},
   "outputs": [
    {
     "data": {
      "text/plain": [
       "226"
      ]
     },
     "execution_count": 8,
     "metadata": {},
     "output_type": "execute_result"
    }
   ],
   "source": [
    "neutrals = score[(score >= 6) & (score <= 8)]\n",
    "neutrals_count = neutrals.shape[0]\n",
    "neutrals_count"
   ]
  },
  {
   "cell_type": "markdown",
   "id": "d73ce4b2",
   "metadata": {},
   "source": [
    "# NPS FORMULA\n",
    "**nps = (%promoters) - (% detractors)**"
   ]
  },
  {
   "cell_type": "code",
   "execution_count": 9,
   "id": "f1e1b6da",
   "metadata": {},
   "outputs": [
    {
     "name": "stdout",
     "output_type": "stream",
     "text": [
      "percentage of promoters : 52.18508997429306 %\n",
      "percentage of detractors : 28.449014567266495 %\n",
      "NPS of AIRBNB's is :  23.73607540702656 %\n"
     ]
    }
   ],
   "source": [
    "# percentage of promoters\n",
    "percentage_promoters = ((promoters_count * 100) / total_people)\n",
    "print('percentage of promoters :',percentage_promoters,'%',sep=' ')\n",
    "\n",
    "# percentage of detractors\n",
    "percentage_detractors = ((detractors_count * 100) / total_people)\n",
    "print('percentage of detractors :',percentage_detractors,'%',sep=' ')\n",
    "\n",
    "#calculations of NPS\n",
    "NPS = percentage_promoters - percentage_detractors\n",
    "print(\"NPS of AIRBNB's is : \" ,NPS,'%',sep=' ')"
   ]
  },
  {
   "cell_type": "code",
   "execution_count": 10,
   "id": "e9078a76",
   "metadata": {},
   "outputs": [
    {
     "data": {
      "text/plain": [
       "23.74"
      ]
     },
     "execution_count": 10,
     "metadata": {},
     "output_type": "execute_result"
    }
   ],
   "source": [
    "np.round(NPS,2)"
   ]
  },
  {
   "cell_type": "markdown",
   "id": "b31ee1ea",
   "metadata": {},
   "source": [
    "# CONCLUSION"
   ]
  },
  {
   "cell_type": "markdown",
   "id": "6840ff2f",
   "metadata": {},
   "source": [
    "> THE NPS IS 23.74 % WHICH MEAN ITS A POSITIVE FEEDBACK & LOTS OF CUSTOMER ARE SATISFIED WITH THEIR SERVICE FOR THIS DATA"
   ]
  },
  {
   "cell_type": "code",
   "execution_count": null,
   "id": "0cb4630b",
   "metadata": {},
   "outputs": [],
   "source": []
  }
 ],
 "metadata": {
  "kernelspec": {
   "display_name": "Python 3 (ipykernel)",
   "language": "python",
   "name": "python3"
  },
  "language_info": {
   "codemirror_mode": {
    "name": "ipython",
    "version": 3
   },
   "file_extension": ".py",
   "mimetype": "text/x-python",
   "name": "python",
   "nbconvert_exporter": "python",
   "pygments_lexer": "ipython3",
   "version": "3.11.0"
  }
 },
 "nbformat": 4,
 "nbformat_minor": 5
}
